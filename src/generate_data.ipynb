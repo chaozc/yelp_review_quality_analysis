{
 "cells": [
  {
   "cell_type": "code",
   "execution_count": 1,
   "metadata": {
    "collapsed": false,
    "scrolled": true
   },
   "outputs": [
    {
     "name": "stdout",
     "output_type": "stream",
     "text": [
      "finished\n"
     ]
    }
   ],
   "source": [
    "from textFeatures import *\n",
    "inf = open('../data/review_user.json', 'r')\n",
    "texts = []\n",
    "labels = []\n",
    "cntt1 = 0\n",
    "cntt2 = 0\n",
    "\n",
    "for line in inf:\n",
    "    js = json.loads(line)\n",
    "    lb = 1 if (js[\"votes\"][\"funny\"]+js[\"votes\"][\"cool\"]+js[\"votes\"][\"useful\"] > 0) else 0\n",
    "    if lb == 1:\n",
    "        cntt1 += 1\n",
    "    elif cntt2 < cntt1:\n",
    "        cntt2 += 1\n",
    "    else:\n",
    "        lb = -1\n",
    "    if lb > -1:\n",
    "        labels.append(lb)\n",
    "        texts.append(line)\n",
    "\n",
    "\n",
    "inf.close()\n",
    "\n",
    "\n",
    "texts_train, texts_test, y_train, y_test = data_split(texts, labels, test_size=0.2)\n",
    "ouf = open('../data/train.json', 'w')\n",
    "for line in texts_train[:120000]:\n",
    "    ouf.write(line)\n",
    "ouf.close()\n",
    "ouf = open('../data/test.json', 'w')\n",
    "for line in texts_test[:30000]:\n",
    "    ouf.write(line)\n",
    "ouf.close()\n",
    "print \"finished\""
   ]
  },
  {
   "cell_type": "code",
   "execution_count": 5,
   "metadata": {
    "collapsed": false
   },
   "outputs": [
    {
     "name": "stdout",
     "output_type": "stream",
     "text": [
      "finished\n"
     ]
    }
   ],
   "source": [
    "import json\n",
    "def raw_feature(oufname):\n",
    "    inf = open(oufname, 'r')\n",
    "    features = []\n",
    "    lbs = []\n",
    "    for line in inf:\n",
    "        js = json.loads(line)\n",
    "        lb = 1 if (js[\"votes\"][\"funny\"]+js[\"votes\"][\"cool\"]+js[\"votes\"][\"useful\"] > 0) else 0\n",
    "        features.append(js['text']) #Replace this line with the feature you want\n",
    "        lbs.append(lb)\n",
    "    return features, lbs\n",
    "X_train, Y_train = raw_feature(\"../data/train.json\")\n",
    "X_test, Y_test = raw_feature(\"../data/test.json\")\n",
    "print \"finished\""
   ]
  },
  {
   "cell_type": "code",
   "execution_count": 4,
   "metadata": {
    "collapsed": false
   },
   "outputs": [
    {
     "data": {
      "text/plain": [
       "267043"
      ]
     },
     "execution_count": 4,
     "metadata": {},
     "output_type": "execute_result"
    }
   ],
   "source": [
    "len(Y_train), sum(Y_train), len(Y_test), sum(Y_test)"
   ]
  },
  {
   "cell_type": "code",
   "execution_count": null,
   "metadata": {
    "collapsed": true
   },
   "outputs": [],
   "source": []
  }
 ],
 "metadata": {
  "kernelspec": {
   "display_name": "Python 2",
   "language": "python",
   "name": "python2"
  },
  "language_info": {
   "codemirror_mode": {
    "name": "ipython",
    "version": 2
   },
   "file_extension": ".py",
   "mimetype": "text/x-python",
   "name": "python",
   "nbconvert_exporter": "python",
   "pygments_lexer": "ipython2",
   "version": "2.7.11"
  }
 },
 "nbformat": 4,
 "nbformat_minor": 0
}
