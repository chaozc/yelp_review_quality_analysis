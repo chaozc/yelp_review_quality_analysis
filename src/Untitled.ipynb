{
 "cells": [
  {
   "cell_type": "code",
   "execution_count": 2,
   "metadata": {
    "collapsed": false
   },
   "outputs": [],
   "source": [
    "from textFeatures import *"
   ]
  },
  {
   "cell_type": "code",
   "execution_count": 3,
   "metadata": {
    "collapsed": false,
    "scrolled": true
   },
   "outputs": [
    {
     "name": "stdout",
     "output_type": "stream",
     "text": [
      "Extracting raw features ...\n",
      "Finished ...\n"
     ]
    }
   ],
   "source": [
    "print \"Extracting raw features ...\"\n",
    "texts, labels = raw_feature_extraction(\"../data/review_user.json\", 100000)\n",
    "print \"Finished ...\""
   ]
  },
  {
   "cell_type": "code",
   "execution_count": 4,
   "metadata": {
    "collapsed": false,
    "scrolled": true
   },
   "outputs": [
    {
     "name": "stdout",
     "output_type": "stream",
     "text": [
      "Spliting data ...\n",
      "Finished ...\n"
     ]
    }
   ],
   "source": [
    "print \"Spliting data ...\"\n",
    "texts_train, texts_test, y_train, y_test = data_split(texts, labels, test_size=0.2)\n",
    "print \"Finished ...\""
   ]
  },
  {
   "cell_type": "code",
   "execution_count": 5,
   "metadata": {
    "collapsed": false,
    "scrolled": true
   },
   "outputs": [
    {
     "name": "stdout",
     "output_type": "stream",
     "text": [
      "Building tfidf model ...\n",
      "Finished ...\n"
     ]
    }
   ],
   "source": [
    "print \"Building tfidf model ...\"\n",
    "X_train, vectorizer = tfidf_extraction(texts=texts_train, ngram_range=(2,2), max_features=1000)\n",
    "print \"Finished ...\""
   ]
  },
  {
   "cell_type": "code",
   "execution_count": 6,
   "metadata": {
    "collapsed": false
   },
   "outputs": [
    {
     "name": "stdout",
     "output_type": "stream",
     "text": [
      "Fitting testset to tfidf model ...\n",
      "Finished ...\n"
     ]
    }
   ],
   "source": [
    "print \"Fitting testset to tfidf model ...\"\n",
    "X_test, vectorizer = tfidf_extraction(texts_test, vectorizer, ngram_range=(2,2), max_features=1000)\n",
    "print \"Finished ...\""
   ]
  },
  {
   "cell_type": "code",
   "execution_count": 7,
   "metadata": {
    "collapsed": false
   },
   "outputs": [
    {
     "name": "stdout",
     "output_type": "stream",
     "text": [
      "Select feature for training set via Chi2 ...\n",
      "Finished\n"
     ]
    }
   ],
   "source": [
    "print \"Select feature for training set via Chi2 ...\"\n",
    "X_train, ch2 = feature_select_chi2(X_train, y_train, k=500)\n",
    "print \"Finished\""
   ]
  },
  {
   "cell_type": "code",
   "execution_count": 8,
   "metadata": {
    "collapsed": false
   },
   "outputs": [
    {
     "name": "stdout",
     "output_type": "stream",
     "text": [
      "Select feature for testset via Chi2 ...\n",
      "Finished\n"
     ]
    }
   ],
   "source": [
    "print \"Select feature for testset via Chi2 ...\"\n",
    "X_test, ch2 = feature_select_chi2(X_test, y_test, ch2)\n",
    "print \"Finished\""
   ]
  },
  {
   "cell_type": "code",
   "execution_count": 9,
   "metadata": {
    "collapsed": false
   },
   "outputs": [
    {
     "name": "stdout",
     "output_type": "stream",
     "text": [
      "Trying Logistic ...\n",
      " -- Logistic Training ...\n",
      " -- Logistic Predicting ...\n",
      "             precision    recall  f1-score   support\n",
      "\n",
      "          0       0.57      0.54      0.56      6668\n",
      "          1       0.56      0.59      0.58      6645\n",
      "\n",
      "avg / total       0.57      0.57      0.57     13313\n",
      "\n"
     ]
    }
   ],
   "source": [
    "print \"Trying Logistic ...\"\n",
    "y_pre, res_svm = my_Logistic(X_train, X_test, y_train, y_test)\n",
    "print res_svm\n",
    "cnt = 0\n",
    "for i in range(len(y_pre)):\n",
    "    cnt += (y_pre[i] == 1)"
   ]
  },
  {
   "cell_type": "code",
   "execution_count": 10,
   "metadata": {
    "collapsed": false,
    "scrolled": false
   },
   "outputs": [
    {
     "name": "stdout",
     "output_type": "stream",
     "text": [
      "  (0, 251)\t0.261535583521\n",
      "  (0, 10)\t0.284018227415\n",
      "  (0, 166)\t0.330575914122\n",
      "  (0, 27)\t0.281869969884\n",
      "  (0, 155)\t0.307504208098\n",
      "  (0, 116)\t0.18692753843\n",
      "  (0, 2)\t0.34874745016\n",
      "  (0, 26)\t0.336826865771\n",
      "  (1, 206)\t0.380337306706\n",
      "  (1, 88)\t0.294842459539\n",
      "  (1, 259)\t0.313999986391\n",
      "  (1, 459)\t0.330392183358\n",
      "  (1, 145)\t0.386738226783\n",
      "  (2, 100)\t0.520378108829\n",
      "  (2, 320)\t0.468089547538\n",
      "  (3, 495)\t0.639439651327\n",
      "  (3, 89)\t0.355968030181\n",
      "  (3, 244)\t0.681471711665\n",
      "  (5, 480)\t0.299876085428\n",
      "  (5, 474)\t0.327853541701\n",
      "  (5, 52)\t0.311426586586\n",
      "  (5, 445)\t0.342941546569\n",
      "  (5, 236)\t0.301392249065\n",
      "  (7, 387)\t0.399479382023\n",
      "  (7, 443)\t0.267243065605\n",
      "  :\t:\n",
      "  (53241, 64)\t0.705512056144\n",
      "  (53242, 132)\t0.319824445223\n",
      "  (53242, 428)\t0.343543214795\n",
      "  (53242, 112)\t0.315868097949\n",
      "  (53242, 227)\t0.359037238955\n",
      "  (53242, 380)\t0.368982188347\n",
      "  (53243, 116)\t0.23851567917\n",
      "  (53243, 103)\t0.35174464427\n",
      "  (53243, 485)\t0.235330779301\n",
      "  (53243, 464)\t0.417209780901\n",
      "  (53244, 132)\t0.711493808422\n",
      "  (53244, 112)\t0.702692365533\n",
      "  (53246, 474)\t0.464844480329\n",
      "  (53246, 194)\t0.480990796286\n",
      "  (53246, 139)\t0.395912759474\n",
      "  (53246, 104)\t0.501904293952\n",
      "  (53247, 443)\t0.286242027221\n",
      "  (53247, 475)\t0.389852363081\n",
      "  (53248, 496)\t1.0\n",
      "  (53249, 219)\t0.626486326592\n",
      "  (53251, 472)\t0.264234107875\n",
      "  (53251, 392)\t0.326334731729\n",
      "  (53251, 113)\t0.266964164247\n",
      "  (53251, 136)\t0.324030009876\n",
      "  (53251, 260)\t0.341672353092\n"
     ]
    }
   ],
   "source": [
    "print X_train"
   ]
  },
  {
   "cell_type": "code",
   "execution_count": 11,
   "metadata": {
    "collapsed": false
   },
   "outputs": [
    {
     "name": "stdout",
     "output_type": "stream",
     "text": [
      "[u'0 star', u'1 2', u'1 5', u'1 hour', u'1 star', u'10 15', u'10 min', u'10 minute', u'10 year', u'15 min', u'15 minute', u'15 year', u'2 3', u'2 5', u'2 day', u'2 hour', u'2 star', u'2 week', u'2 year', u'20 min', u'20 minute', u'20 year', u'24 hour', u'25 minute', u'3 4', u'3 5', u'3 day', u'3 hour', u'3 month', u'3 star', u'3 time', u'3 week', u'3 year', u'30 min', u'30 minute', u'4 5', u'4 hour', u'4 star', u'4 time', u'4 year', u'40 minute', u'45 minute', u'5 day', u'5 hour', u'5 minute', u'5 star', u'5 year', u'6 month', u'absolutely delicious', u'absolutely love', u'ago wa', u'amazing food', u'amazing job', u'amazing service', u'animal hospital', u'answer question', u'answered question', u'appetizer wa', u'appointment wa', u'area wa', u'aren t', u'arrived wa', u'ask question', u'asked wa', u'asked wanted', u'atmosphere wa', u'authentic mexican', u'away wa', u'bad day', u'bad experience', u'bad review', u'bad service', u'baked potato', u'bar area', u'bar food', u'bar wa', u'bartender wa', u'bathroom wa', u'bbq sauce', u'bed wa', u'beef wa', u'beer selection', u'believe wa', u'best pizza', u'best place', u'best service', u'best thing', u'best ve', u'better place', u'better service', u'big deal', u'big fan', u'brand new', u'bread wa', u'breakfast wa', u'brought u', u'burger wa', u'caesar salad', u'cake wa', u'called wa', u'came said', u'came table', u'came time', u'came wa', u'car wa', u'car wash', u'care customer', u'care u', u'carne asada', u'cashier wa', u'check u', u'check wa', u'cheese wa', u'chicken fried', u'chicken salad', u'chicken sandwich', u'chicken wa', u'chicken wing', u'child s', u'chinese food', u'chinese restaurant', u'chip salsa', u'coffee shop', u'coffee wa', u'come time', u'comfort food', u'coming year', u'cooked perfection', u'cooked perfectly', u'couldn t', u'counter wa', u'couple day', u'couple time', u'couple week', u'couple year', u'course wa', u'cream cheese', u'credit card', u'customer service', u'd like', u'd recommend', u'date night', u'day ago', u'day later', u'day wa', u'day week', u'decent price', u'decided try', u'deep fried', u'definitely come', u'definitely coming', u'definitely going', u'definitely recommend', u'definitely return', u'definitely worth', u'delicious food', u'desk staff', u'desk wa', u'dessert wa', u'did great', u'did know', u'did like', u'did mention', u'did wa', u'did want', u'didn t', u'dining area', u'dining experience', u'dining room', u'dinner wa', u'dish wa', u'dive bar', u'doesn t', u'dog wa', u'don t', u'door wa', u'drink food', u'drink order', u'drink wa', u'egg roll', u'entire time', u'excellent customer', u'excellent food', u'excellent service', u'experience ve', u'experience wa', u'extremely friendly', u'extremely helpful', u'extremely rude', u'fair price', u'family friend', u'family member', u'family owned', u'far away', u'far best', u'fast food', u'fast friendly', u'fast service', u'favorite place', u'favorite restaurant', u'feel comfortable', u'feel like', u'felt like', u'felt wa', u'finally got', u'fish chip', u'fish taco', u'flavor wa', u'food amazing', u'food came', u'food come', u'food delicious', u'food drink', u'food excellent', u'food fresh', u'food good', u'food great', u'food ha', u'food just', u'food option', u'food ordered', u'food place', u'food pretty', u'food quality', u'food really', u'food s', u'food service', u'food taste', u'food ve', u'food wa', u'free wifi', u'french fry', u'french toast', u'friday night', u'fried chicken', u'fried rice', u'friend family', u'friend ordered', u'friend s', u'friend wa', u'friendly attentive', u'friendly food', u'friendly helpful', u'friendly professional', u'friendly service', u'friendly staff', u'fun place', u'garlic bread', u'gave u', u'gift card', u'glad did', u'going place', u'going year', u'good customer', u'good deal', u'good experience', u'good food', u'good great', u'good job', u'good just', u'good luck', u'good pizza', u'good place', u'good price', u'good quality', u'good review', u'good s', u'good selection', u'good service', u'good thing', u'good time', u'good wa', u'got car', u'got food', u'got home', u'got order', u'got wa', u'great atmosphere', u'great care', u'great customer', u'great deal', u'great experience', u'great food', u'great job', u'great little', u'great location', u'great meal', u'great people', u'great pizza', u'great place', u'great price', u'great selection', u'great service', u'great staff', u'great thing', u'great time', u'great wa', u'great work', u'grocery store', u'guy wa', u'ha best', u'ha changed', u'ha gone', u'ha good', u'ha great', u'ha lot', u'hadn t', u'hair cut', u'half hour', u'hand best', u'happy hour', u'hard time', u'hash brown', u'hasn t', u'haven t', u'help u', u'helped u', u'helpful friendly', u'hidden gem', u'high end', u'high quality', u'highly recommend', u'highly recommended', u'hit miss', u'hit spot', u'hole wall', u'home wa', u'horrible customer', u'horrible experience', u'horrible service', u'hot dog', u'hot sauce', u'hotel room', u'hotel wa', u'hour half', u'hour later', u'hour wa', u'huge fan', u'husband ordered', u'husband s', u'ice cream', u'iced tea', u'insurance company', u'isn t', u'issue wa', u'italian food', u'italian restaurant', u'job wa', u'just didn', u'just don', u'just good', u'just got', u'just left', u'just like', u'just little', u'just make', u'just moved', u'just ok', u'just right', u'just say', u'just want', u'just wanted', u'just wish', u'knew wa', u'know doing', u'know s', u'know wa', u'la vega', u'lady wa', u'large group', u'large portion', u'late night', u'later wa', u'let know', u'let s', u'let start', u'let u', u'like family', u'like food', u'like just', u'like m', u'like place', u'like s', u'like said', u'like wa', u'line wa', u'little bit', u'little place', u'little pricey', u'live music', u'll definitely', u'll just', u'location wa', u'long line', u'long story', u'long time', u'long wait', u'look forward', u'look good', u'look great', u'look like', u'looked like', u'looking forward', u'looking good', u'looking place', u'lot people', u'lot time', u'love food', u'love love', u'love place', u'loyal customer', u'lunch dinner', u'lunch special', u'lunch time', u'lunch wa', u'm fan', u'm giving', u'm glad', u'm going', u'm happy', u'm just', u'm looking', u'm pretty', u'm really', u'm sorry', u'm sure', u'mac cheese', u'mac n', u'main course', u'make appointment', u'make feel', u'make reservation', u'make sense', u'make sure', u'making sure', u'manager came', u'manager wa', u'mashed potato', u'maybe s', u'maybe wa', u'meal wa', u'meat wa', u'medium rare', u'men s', u'menu item', u'menu wa', u'mexican food', u'mexican restaurant', u'minute later', u'minute wa', u'minute wait', u'mom pop', u'month ago', u'month later', u'morning wa', u'multiple time', u'n cheese', u'nail salon', u'needle say', u'negative review', u'new place', u'new york', u'nice clean', u'nice friendly', u'nice helpful', u'nice people', u'nice place', u'nice wa', u'night wa', u'office staff', u'oil change', u'old school', u'old town', u'onion ring', u'orange chicken', u'order food', u'order wa', u'ordered chicken', u'ordered food', u'ordered wa', u'overall good', u'overall great', u'overall wa', u'owner wa', u'pad thai', u'parking lot', u'past year', u'pasta wa', u'pay attention', u'people don', u'people like', u'people s', u'people waiting', u'people work', u'people working', u'person wa', u'phoenix area', u'phone wa', u'pizza place', u'pizza wa', u'place amazing', u'place awesome', u'place clean', u'place come', u'place definitely', u'place don', u'place eat', u'place food', u'place good', u'place great', u'place ha', u'place just', u'place like', u'place look', u'place need', u'place order', u'place really', u'place s', u'place stay', u'place time', u'place try', u'place ve', u'place wa', u'placed order', u'plate wa', u'pleasantly surprised', u'point wa', u'pool area', u'pool table', u'pool wa', u'poor customer', u'poor service', u'portion size', u'pretty cool', u'pretty decent', u'pretty good', u'pretty sure', u'price good', u'price great', u'price reasonable', u'price wa', u'prime rib', u'probably best', u'probably won', u'problem wa', u'pulled pork', u'quality food', u'quality service', u'quite bit', u'quite good', u'read review', u'reading review', u'really bad', u'really care', u'really don', u'really enjoy', u'really enjoyed', u'really friendly', u'really good', u'really great', u'really like', u'really liked', u'really need', u'really nice', u'really really', u'really want', u'really wanted', u'reasonable price', u'reasonably priced', u'recommend place', u'rental car', u'resort fee', u'response wa', u'restaurant ha', u'restaurant s', u'restaurant wa', u'review place', u'review wa', u'review yelp', u'rice bean', u'rice wa', u'right away', u'right time', u'roll wa', u'room clean', u'room service', u'room wa', u's amazing', u's bad', u's best', u's better', u's big', u's birthday', u's clean', u's day', u's definitely', u's favorite', u's food', u's going', u's good', u's got', u's great', u's ha', u's hard', u's just', u's like', u's little', u's lot', u's nice', u's place', u's pretty', u's really', u's right', u's s', u's small', u's time', u's wa', u's way', u's worth', u'said didn', u'said don', u'said s', u'said wa', u'said yes', u'salad bar', u'salad wa', u'sandwich wa', u'sat bar', u'saturday night', u'sauce wa', u'save money', u'say good', u'say place', u'say s', u'say wa', u'seated right', u'second time', u'server wa', u'service excellent', u'service fast', u'service food', u'service friendly', u'service good', u'service great', u'service ha', u'service received', u'service time', u'service ve', u'service wa', u'shouldn t', u'shrimp wa', u'slot machine', u'slow service', u'smell like', u'sound like', u'soup wa', u'sour cream', u'speak manager', u'special occasion', u'special wa', u'spend money', u'spring roll', u'staff friendly', u'staff great', u'staff ha', u'staff helpful', u'staff member', u'staff nice', u'staff really', u'staff super', u'staff wa', u'star food', u'star rating', u'star review', u'star service', u'star wa', u'start saying', u'stay away', u'steak wa', u'store ha', u'store wa', u'story short', u'strip mall', u'super friendly', u'super nice', u'sure s', u'sure wa', u'sweet potato', u't able', u't ask', u't bad', u't beat', u't believe', u't better', u't bother', u't busy', u't care', u't come', u't complain', u't disappointed', u't eat', u't expect', u't feel', u't finish', u't forget', u't going', u't good', u't great', u't help', u't just', u't know', u't leave', u't let', u't like', u't long', u't look', u't make', u't matter', u't mind', u't need', u't offer', u't order', u't pay', u't place', u't really', u't recommend', u't remember', u't say', u't speak', u't stop', u't sure', u't taste', u't tell', u't think', u't time', u't try', u't understand', u't use', u't wa', u't wait', u't want', u't waste', u't work', u't wrong', u'table wa', u'taken care', u'taking care', u'taking order', u'taste good', u'taste like', u'taste wa', u'tasted like', u'tell u', u'tell wa', u'terrible service', u'thing like', u'thing place', u'thing say', u'thing wa', u'think ll', u'think s', u'think wa', u'thought wa', u'time came', u'time come', u'time day', u'time did', u'time food', u'time got', u'time great', u'time just', u'time ll', u'time m', u'time make', u'time money', u'time ordered', u'time place', u'time s', u'time service', u'time time', u'time ve', u'time visit', u'time wa', u'time week', u'time went', u'time year', u'today wa', u'told u', u'told wa', u'took car', u'took care', u'took forever', u'took hour', u'took long', u'took order', u'took time', u'took u', u'treated like', u'try new', u'try place', u'u feel', u'u s', u'u wa', u've better', u've coming', u've eaten', u've going', u've gone', u've got', u've gotten', u've heard', u've lived', u've seen', u've stayed', u've time', u've tried', u'visit wa', u'wa 10', u'wa 2', u'wa 3', u'wa 5', u'wa able', u'wa absolutely', u'wa actually', u'wa amazing', u'wa asked', u'wa attentive', u'wa available', u'wa average', u'wa awesome', u'wa awful', u'wa bad', u'wa beautiful', u'wa best', u'wa better', u'wa big', u'wa bit', u'wa bland', u'wa brought', u'wa busy', u'wa called', u'wa charged', u'wa clean', u'wa close', u'wa closed', u'wa cold', u'wa comfortable', u'wa completely', u'wa cooked', u'wa cool', u'wa decent', u'wa definitely', u'wa delicious', u'wa different', u'wa dirty', u'wa disappointed', u'wa disappointing', u'wa doing', u'wa dry', u'wa easy', u'wa excellent', u'wa excited', u'wa expecting', u'wa extremely', u'wa fantastic', u'wa far', u'wa fast', u'wa favorite', u'wa fine', u'wa food', u'wa fresh', u'wa friendly', u'wa fun', u'wa getting', u'wa given', u'wa going', u'wa good', u'wa great', u'wa greeted', u'wa happy', u'wa hard', u'wa having', u'wa helpful', u'wa horrible', u'wa hot', u'wa huge', u'wa impressed', u'wa incredibly', u'wa just', u'wa kind', u'wa knowledgeable', u'wa large', u'wa late', u'wa le', u'wa left', u'wa like', u'wa little', u'wa long', u'wa looking', u'wa lot', u'wa mediocre', u'wa new', u'wa nice', u'wa ok', u'wa okay', u'wa old', u'wa outstanding', u'wa packed', u'wa perfect', u'wa perfectly', u'wa place', u'wa pleasant', u'wa pleasantly', u'wa pleased', u'wa point', u'wa polite', u'wa pretty', u'wa probably', u'wa professional', u'wa quick', u'wa quite', u'wa ready', u'wa really', u'wa reasonable', u'wa right', u'wa rude', u'wa served', u'wa server', u'wa sitting', u'wa slow', u'wa small', u'wa super', u'wa supposed', u'wa surprised', u'wa sweet', u'wa taken', u'wa taking', u'wa talking', u'wa tasty', u'wa tender', u'wa terrible', u'wa time', u'wa told', u'wa treated', u'wa trying', u'wa wa', u'wa waiting', u'wa way', u'wa wonderful', u'wa working', u'wa worst', u'wa worth', u'wa wrong', u'wait long', u'wait staff', u'wait time', u'wait wa', u'waiter wa', u'waiting area', u'waiting room', u'waitress wa', u'walked away', u'walking distance', u'wanted try', u'wanted wa', u'wasn t', u'waste money', u'waste time', u'water wa', u'way better', u'way home', u'way wa', u'week ago', u'week later', u'week wa', u'went lunch', u'went today', u'went wa', u'went way', u'weren t', u'wife s', u'wish wa', u'won t', u'work wa', u'worst customer', u'worst experience', u'worst service', u'worth drive', u'worth wait', u'wouldn t', u'write review', u'writing review', u'x ray', u'year ago', u'year old', u'year s', u'year ve', u'year wa', u'yelp review', u'zero star']\n"
     ]
    }
   ],
   "source": [
    "a = vectorizer.get_feature_names()\n",
    "print a"
   ]
  },
  {
   "cell_type": "code",
   "execution_count": null,
   "metadata": {
    "collapsed": true
   },
   "outputs": [],
   "source": []
  }
 ],
 "metadata": {
  "kernelspec": {
   "display_name": "Python 2",
   "language": "python",
   "name": "python2"
  },
  "language_info": {
   "codemirror_mode": {
    "name": "ipython",
    "version": 2
   },
   "file_extension": ".py",
   "mimetype": "text/x-python",
   "name": "python",
   "nbconvert_exporter": "python",
   "pygments_lexer": "ipython2",
   "version": "2.7.11"
  }
 },
 "nbformat": 4,
 "nbformat_minor": 0
}
