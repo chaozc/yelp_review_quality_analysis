{
 "cells": [
  {
   "cell_type": "code",
   "execution_count": 1,
   "metadata": {
    "collapsed": false
   },
   "outputs": [],
   "source": [
    "from textFeatures import *"
   ]
  },
  {
   "cell_type": "code",
   "execution_count": 2,
   "metadata": {
    "collapsed": false
   },
   "outputs": [
    {
     "name": "stdout",
     "output_type": "stream",
     "text": [
      "Finished\n"
     ]
    }
   ],
   "source": [
    "import json\n",
    "def raw_feature(oufname):\n",
    "    inf = open(oufname, 'r')\n",
    "    features = []\n",
    "    lbs = []\n",
    "    for line in inf:\n",
    "        js = json.loads(line)\n",
    "        lb = 1 if (js[\"votes\"][\"funny\"]+js[\"votes\"][\"cool\"]+js[\"votes\"][\"useful\"] > 0) else 0\n",
    "        features.append(js['text']) #Replace this line with the feature you want\n",
    "        lbs.append(lb)\n",
    "    return features, lbs\n",
    "texts_train, Y_train = raw_feature(\"../data/train.json\")\n",
    "texts_test, Y_test = raw_feature(\"../data/test.json\")\n",
    "print \"Finished\""
   ]
  },
  {
   "cell_type": "code",
   "execution_count": 3,
   "metadata": {
    "collapsed": false,
    "scrolled": false
   },
   "outputs": [
    {
     "name": "stdout",
     "output_type": "stream",
     "text": [
      "Building tfidf model ...\n",
      "Fitting testset to tfidf model ...\n",
      "Finished\n"
     ]
    }
   ],
   "source": [
    "print \"Building tfidf model ...\"\n",
    "X_train_tfidf, vectorizer = tfidf_extraction(texts=texts_train, ngram_range=(1,1), max_features=1500)\n",
    "print \"Fitting testset to tfidf model ...\"\n",
    "X_test_tfidf, vectorizer = tfidf_extraction(texts_test, vectorizer, ngram_range=(1,1), max_features=1500)\n",
    "print \"Finished\""
   ]
  },
  {
   "cell_type": "code",
   "execution_count": 4,
   "metadata": {
    "collapsed": false,
    "scrolled": true
   },
   "outputs": [
    {
     "name": "stdout",
     "output_type": "stream",
     "text": [
      "Select feature for training set via Chi2 ...\n",
      "Select feature for testset via Chi2 ...\n",
      "Finished\n"
     ]
    }
   ],
   "source": [
    "print \"Select feature for training set via Chi2 ...\"\n",
    "X_train_tfidf_ch2, ch2 = feature_select_chi2(X_train_tfidf, Y_train, k=20)\n",
    "print \"Select feature for testset via Chi2 ...\"\n",
    "X_test_tfidf_ch2, ch2 = feature_select_chi2(X_test_tfidf, Y_test, ch2)\n",
    "print \"Finished\""
   ]
  },
  {
   "cell_type": "code",
   "execution_count": 9,
   "metadata": {
    "collapsed": false
   },
   "outputs": [
    {
     "name": "stdout",
     "output_type": "stream",
     "text": [
      "Building AdaBoost Model ...\n",
      "             precision    recall  f1-score   support\n",
      "\n",
      "          0       0.53      0.90      0.67     15019\n",
      "          1       0.68      0.21      0.32     14981\n",
      "\n",
      "avg / total       0.61      0.56      0.50     30000\n",
      "\n"
     ]
    }
   ],
   "source": [
    "from sklearn.tree import DecisionTreeClassifier\n",
    "from sklearn.ensemble import AdaBoostClassifier\n",
    "print \"Building AdaBoost Model ...\"\n",
    "bdt = AdaBoostClassifier(DecisionTreeClassifier(max_depth=2),algorithm=\"SAMME\",n_estimators=200)\n",
    "bdt.fit(X_train_tfidf_ch2.toarray(), Y_train)\n",
    "\n",
    "Y_pre = bdt.predict(X_test_tfidf_ch2.toarray())\n",
    "report = classification_report(Y_test, Y_pre)\n",
    "print report"
   ]
  },
  {
   "cell_type": "code",
   "execution_count": 13,
   "metadata": {
    "collapsed": false
   },
   "outputs": [
    {
     "name": "stdout",
     "output_type": "stream",
     "text": [
      "Buiding ElasticNet Model ...\n",
      "Predicting ...\n",
      "[0 0 1 ..., 1 0 0]\n",
      "             precision    recall  f1-score   support\n",
      "\n",
      "          0       0.57      0.63      0.60     15019\n",
      "          1       0.59      0.52      0.55     14981\n",
      "\n",
      "avg / total       0.58      0.58      0.58     30000\n",
      "\n"
     ]
    }
   ],
   "source": [
    "from sklearn.linear_model import SGDClassifier\n",
    "print \"Buiding ElasticNet Model ...\"\n",
    "en = SGDClassifier(loss=\"squared_hinge\", penalty='elasticnet', l1_ratio=0.20, n_iter=20, alpha=0.001)\n",
    "en.fit(X_train_tfidf_ch2, Y_train)\n",
    "print \"Predicting ...\"\n",
    "Y_pre = en.predict(X_test_tfidf_ch2)\n",
    "print Y_pre\n",
    "report = classification_report(Y_test, Y_pre)\n",
    "print report"
   ]
  },
  {
   "cell_type": "code",
   "execution_count": 6,
   "metadata": {
    "collapsed": false,
    "scrolled": false
   },
   "outputs": [
    {
     "name": "stdout",
     "output_type": "stream",
     "text": [
      "\t-- SVM training ...\n",
      "\t-- SVM predicting ...\n",
      "             precision    recall  f1-score   support\n",
      "\n",
      "          0       0.54      0.79      0.64     15019\n",
      "          1       0.61      0.33      0.43     14981\n",
      "\n",
      "avg / total       0.58      0.56      0.54     30000\n",
      "\n"
     ]
    }
   ],
   "source": [
    "y_pre_postag, res_svm = my_SVM(X_train_tfidf_ch2, X_test_tfidf_ch2, Y_train, Y_test)\n",
    "print res_svm"
   ]
  },
  {
   "cell_type": "code",
   "execution_count": null,
   "metadata": {
    "collapsed": true
   },
   "outputs": [],
   "source": [
    "a = vectorizer.get_feature_names()\n",
    "print a"
   ]
  }
 ],
 "metadata": {
  "kernelspec": {
   "display_name": "Python 2",
   "language": "python",
   "name": "python2"
  },
  "language_info": {
   "codemirror_mode": {
    "name": "ipython",
    "version": 2
   },
   "file_extension": ".py",
   "mimetype": "text/x-python",
   "name": "python",
   "nbconvert_exporter": "python",
   "pygments_lexer": "ipython2",
   "version": "2.7.11"
  }
 },
 "nbformat": 4,
 "nbformat_minor": 0
}
